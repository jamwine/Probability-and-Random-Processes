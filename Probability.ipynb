{
 "cells": [
  {
   "cell_type": "markdown",
   "id": "76145c15",
   "metadata": {},
   "source": [
    "# Probability Theory\n",
    "\n",
    "Probability theory is a branch of mathematics that deals with the study of uncertainty, randomness, and the likelihood of events occurring. It provides a formal framework for reasoning about uncertain outcomes and is widely used in various fields, including statistics, physics, economics, finance, and more."
   ]
  },
  {
   "cell_type": "markdown",
   "id": "25050700",
   "metadata": {},
   "source": [
    "## Sample Space \n",
    "**Sample Space $(S)$** is the set of all possible outcomes of an experiment. For example, when rolling a six-sided die, the sample space is: \n",
    "```python\n",
    "sample_space = {1, 2, 3, 4, 5, 6}\n",
    "```\n",
    "\n",
    "## Event\n",
    "**Event $(E)$** is a subset of the sample space, representing a specific outcome or a collection of outcomes. There are different Types of events:\n",
    "### Simple Event:\n",
    "\n",
    "A simple event is an event that consists of a single outcome. For example, rolling an even number on the die is a simple event.\n",
    "\n",
    "```python\n",
    "# Event: Rolling an even number\n",
    "even_numbers = {2, 4, 6}  \n",
    "```\n",
    "\n",
    "### Compound Event:\n",
    "\n",
    "A compound event consists of more than one outcome. For example, rolling a number greater than 3 is a compound event.\n",
    "\n",
    "```python\n",
    "# Event: Rolling a number greater than 3\n",
    "greater_than_3 = {4, 5, 6}  \n",
    "```\n",
    "\n",
    "### Complementary Event:\n",
    "\n",
    "The complementary event of an event $E$ ( denoted as $E^c$ or $\\neg E$ or $\\bar{E}$ ) consists of all outcomes that are not in $E$. For example, not rolling an even number.\n",
    "\n",
    "```python\n",
    "# Event: Not rolling an even number\n",
    "not_even_numbers = sample_space - even_numbers  \n",
    "```\n",
    "\n",
    "### Impossible and Certain Events:\n",
    "\n",
    "- An impossible event is an event that cannot occur, so its probability is $0$. For example, rolling a `7` on a standard six-sided die.\n",
    "- A certain event is an event that is guaranteed to occur, so its probability is $1$. For example, if you roll a six-sided die, the event \"rolling a number from `1` to `6`\" is certain.\n",
    "\n",
    "```python\n",
    "impossible_event = set()  # Empty set\n",
    "certain_event = sample_space\n",
    "```"
   ]
  },
  {
   "cell_type": "code",
   "execution_count": 2,
   "id": "4d2cdf32",
   "metadata": {},
   "outputs": [
    {
     "name": "stdout",
     "output_type": "stream",
     "text": [
      "Sample Space: {1, 2, 3, 4, 5, 6}\n",
      "Even Numbers: {2, 4, 6}\n",
      "Numbers Greater Than 3: {4, 5, 6}\n",
      "Not Even Numbers: {1, 3, 5}\n",
      "Impossible Event: set()\n",
      "Certain Event: {1, 2, 3, 4, 5, 6}\n"
     ]
    }
   ],
   "source": [
    "# Sample space for rolling a six-sided die\n",
    "sample_space = {1, 2, 3, 4, 5, 6}\n",
    "\n",
    "# Events\n",
    "even_numbers = {2, 4, 6}\n",
    "greater_than_3 = {4, 5, 6}\n",
    "not_even_numbers = sample_space - even_numbers\n",
    "\n",
    "# Impossible and Certain Events\n",
    "impossible_event = set()  # Empty set\n",
    "certain_event = sample_space\n",
    "\n",
    "# Printing the results\n",
    "print(\"Sample Space:\", sample_space)\n",
    "print(\"Even Numbers:\", even_numbers)\n",
    "print(\"Numbers Greater Than 3:\", greater_than_3)\n",
    "print(\"Not Even Numbers:\", not_even_numbers)\n",
    "print(\"Impossible Event:\", impossible_event)\n",
    "print(\"Certain Event:\", certain_event)"
   ]
  },
  {
   "cell_type": "markdown",
   "id": "67c51415",
   "metadata": {},
   "source": [
    "## Random Experiment\n",
    "\n",
    "A random experiment is a process that leads to uncertain outcomes, and its outcome cannot be predicted with certainty. It is characterized by its randomness and variability. Random experiments are fundamental in probability theory, as they provide the basis for studying and analyzing uncertain events.\n",
    "\n",
    "### Characteristics of a Random Experiment\n",
    "\n",
    "1. **Unpredictable Outcomes**: The outcomes of a random experiment cannot be predicted with certainty before the experiment is conducted.\n",
    "\n",
    "2. **Repeatability**: The experiment can be repeated under identical conditions, yielding different outcomes on different trials.\n",
    "\n",
    "3. **Well-Defined Sample Space**: The set of all possible outcomes of the experiment is known and is called the sample space.\n",
    "\n",
    "4. **Randomness**: The outcome of the experiment is subject to inherent randomness, often influenced by factors that are difficult to control or predict."
   ]
  },
  {
   "cell_type": "code",
   "execution_count": 1,
   "id": "ece8b9a3",
   "metadata": {},
   "outputs": [],
   "source": [
    "import random"
   ]
  },
  {
   "cell_type": "markdown",
   "id": "9e582dc9",
   "metadata": {},
   "source": [
    "### Example: Rolling a Six-Sided Die\n",
    "\n",
    "Rolling a six-sided die is a classic random experiment. The possible outcomes are the numbers 1 to 6, and the outcome of each roll is uncertain."
   ]
  },
  {
   "cell_type": "code",
   "execution_count": 3,
   "id": "6ceac6f7",
   "metadata": {},
   "outputs": [
    {
     "name": "stdout",
     "output_type": "stream",
     "text": [
      "Outcomes of rolling a die: [5, 5, 6, 1, 2, 2, 2, 2, 6, 1]\n"
     ]
    }
   ],
   "source": [
    "def roll_die():\n",
    "    return random.randint(1, 6)\n",
    "\n",
    "# Perform the experiment multiple times\n",
    "num_trials = 10\n",
    "outcomes = [roll_die() for _ in range(num_trials)]\n",
    "\n",
    "print(\"Outcomes of rolling a die:\", outcomes)"
   ]
  },
  {
   "cell_type": "markdown",
   "id": "e3dd9270",
   "metadata": {},
   "source": [
    "### Example: Flipping a Coin\n",
    "Flipping a coin is another random experiment. The possible outcomes are \"Heads\" and \"Tails,\" and the result is unpredictable."
   ]
  },
  {
   "cell_type": "code",
   "execution_count": 4,
   "id": "7d0983a6",
   "metadata": {},
   "outputs": [
    {
     "name": "stdout",
     "output_type": "stream",
     "text": [
      "Results of coin flips: ['Heads', 'Heads', 'Heads', 'Tails', 'Heads', 'Tails', 'Heads', 'Heads', 'Heads', 'Heads']\n"
     ]
    }
   ],
   "source": [
    "def flip_coin():\n",
    "    return random.choice([\"Heads\", \"Tails\"])\n",
    "\n",
    "# Perform the experiment multiple times\n",
    "num_flips = 10\n",
    "results = [flip_coin() for _ in range(num_flips)]\n",
    "\n",
    "print(\"Results of coin flips:\", results)"
   ]
  },
  {
   "cell_type": "markdown",
   "id": "67805a32",
   "metadata": {},
   "source": [
    "### Example: Drawing Cards from a Deck\n",
    "Drawing cards from a standard deck of playing cards is a random experiment. Each draw's outcome (card) is uncertain and can vary.\n"
   ]
  },
  {
   "cell_type": "code",
   "execution_count": 5,
   "id": "033e967f",
   "metadata": {},
   "outputs": [
    {
     "name": "stdout",
     "output_type": "stream",
     "text": [
      "Drawn cards: [('Spades', 'Ace'), ('Spades', '4'), ('Hearts', '3'), ('Clubs', 'Queen'), ('Spades', '7')]\n"
     ]
    }
   ],
   "source": [
    "def draw_card(deck):\n",
    "    return random.choice(deck)\n",
    "\n",
    "# Create a standard deck of cards\n",
    "suits = [\"Hearts\", \"Diamonds\", \"Clubs\", \"Spades\"]\n",
    "values = [\"2\", \"3\", \"4\", \"5\", \"6\", \"7\", \"8\", \"9\", \"10\", \"Jack\", \"Queen\", \"King\", \"Ace\"]\n",
    "deck = [(suit, value) for suit in suits for value in values]\n",
    "\n",
    "# Perform the experiment by drawing cards\n",
    "num_draws = 5\n",
    "drawn_cards = [draw_card(deck) for _ in range(num_draws)]\n",
    "\n",
    "print(\"Drawn cards:\", drawn_cards)"
   ]
  },
  {
   "cell_type": "markdown",
   "id": "95f66cd0",
   "metadata": {},
   "source": [
    "## Probability: Mathematical Definition (Classical Approach)\n",
    "Probability deals with the likelihood of events occurring. \n",
    "\n",
    "In probability theory, the mathematical definition of probability is based on the classical or frequentist approach. This definition relates the probability of an event to the ratio of the number of favorable outcomes to the total number of possible outcomes in an equally likely sample space.\n",
    "\n",
    "If $(S)$ is the sample space and $(E)$ is the event, then $P(E)$ or the probability of an Event is the likelihood that event $(E)$ will occur. It is calculated as the ratio of the number of favorable outcomes $n(E)$ to the total number of equally likely outcomes $n(S)$.\n",
    "\n",
    "$$P(E) = \\frac{n(E)}{n(S)}$$\n",
    "\n",
    "### Example: Rolling a Six-Sided Die\n",
    "This example will demonstrate the classical approach to defining probability using the ratio of favorable outcomes to total outcomes in an equally likely sample space."
   ]
  },
  {
   "cell_type": "code",
   "execution_count": 6,
   "id": "e5781d1c",
   "metadata": {},
   "outputs": [
    {
     "name": "stdout",
     "output_type": "stream",
     "text": [
      "Probability of rolling an even number: 0.5\n",
      "Probability of rolling a number greater than 3: 0.5\n"
     ]
    }
   ],
   "source": [
    "def calculate_probability(favorable_outcomes, total_outcomes):\n",
    "    return favorable_outcomes / total_outcomes\n",
    "\n",
    "# Define the sample space\n",
    "sample_space = {1, 2, 3, 4, 5, 6}\n",
    "\n",
    "# Define events\n",
    "event_even = {2, 4, 6}  # Event: Rolling an even number\n",
    "event_greater_than_3 = {4, 5, 6}  # Event: Rolling a number greater than 3\n",
    "\n",
    "# Calculate probabilities using the classical definition\n",
    "probability_even = calculate_probability(len(event_even), len(sample_space))\n",
    "probability_greater_than_3 = calculate_probability(len(event_greater_than_3), len(sample_space))\n",
    "\n",
    "# Print the results\n",
    "print(\"Probability of rolling an even number:\", probability_even)\n",
    "print(\"Probability of rolling a number greater than 3:\", probability_greater_than_3)"
   ]
  },
  {
   "cell_type": "markdown",
   "id": "b1388f6a",
   "metadata": {},
   "source": [
    "### Example:  Flipping a Coin"
   ]
  },
  {
   "cell_type": "code",
   "execution_count": 7,
   "id": "b8484803",
   "metadata": {},
   "outputs": [
    {
     "name": "stdout",
     "output_type": "stream",
     "text": [
      "Heads count: 51\n",
      "Tails count: 49\n",
      "Heads probability: 0.51\n",
      "Tails probability: 0.49\n"
     ]
    }
   ],
   "source": [
    "def flip_coin():\n",
    "    return random.choice(['Heads', 'Tails'])\n",
    "\n",
    "# Simulate multiple coin flips\n",
    "num_flips = 100\n",
    "heads_count = sum(1 for _ in range(num_flips) if flip_coin() == 'Heads')\n",
    "\n",
    "print(f\"Heads count: {heads_count}\")\n",
    "print(f\"Tails count: {num_flips - heads_count}\")\n",
    "print(f\"Heads probability: {heads_count / num_flips}\")\n",
    "print(f\"Tails probability: {(num_flips - heads_count) / num_flips}\")"
   ]
  },
  {
   "cell_type": "markdown",
   "id": "080c677d",
   "metadata": {},
   "source": [
    "## Probability: Apriori Definition (Subjective Approach)\n",
    "\n",
    "The apriori or subjective definition of probability is based on an individual's beliefs or degree of confidence in the occurrence of an event. It does not rely on equally likely outcomes but instead reflects personal judgments.\n",
    "\n",
    "If $(S)$ is the sample space and $(E)$ is the event, then $P(E)$ or the probability of an Event is a subjective measure of an individual's belief in the likelihood of event $(E)$. It ranges from `0` (**impossible**) to `1` (**certain**).\n",
    "\n",
    "Apriori probabilities are based on qualitative factors, historical data, expert opinions, or other relevant information.\n",
    "\n",
    "### Example:\n",
    "Consider a scenario where you're estimating the probability of a basketball player making a free throw based on their historical performance and your subjective judgment."
   ]
  },
  {
   "cell_type": "code",
   "execution_count": 8,
   "id": "79835331",
   "metadata": {},
   "outputs": [
    {
     "name": "stdout",
     "output_type": "stream",
     "text": [
      "Subjective probability of making a free throw: 0.75\n"
     ]
    }
   ],
   "source": [
    "def subjective_probability(expert_opinion):\n",
    "    return expert_opinion\n",
    "\n",
    "# Estimate the probability of the basketball player making a free throw\n",
    "expert_opinion = 0.75  # An expert believes there's a 75% chance of success\n",
    "probability_making_free_throw = subjective_probability(expert_opinion)\n",
    "\n",
    "# Print the result\n",
    "print(\"Subjective probability of making a free throw:\", probability_making_free_throw)"
   ]
  },
  {
   "cell_type": "markdown",
   "id": "8d02a409",
   "metadata": {},
   "source": [
    "**The classical definition relies on equally likely outcomes, while the apriori definition is based on individual beliefs or subjective judgments.**"
   ]
  },
  {
   "cell_type": "markdown",
   "id": "2b33742c",
   "metadata": {},
   "source": [
    "## Mutually Exclusive Events\n",
    "\n",
    "Mutually exclusive events are events that cannot occur simultaneously. If one of these events happens, the other(s) cannot occur in the same trial or experiment. In other words, if $A$ occurs then $B$ doesn't occurs, and vice versa.\n",
    "\n",
    "Events $A$ and $B$ are mutually exclusive if and only if their intersection $(A \\cap B)$ is an empty set $(\\emptyset)$:\n",
    "\n",
    "$$P(A \\cap B) = P(\\emptyset) = 0$$\n",
    "\n",
    "\n",
    "For mutually exclusive events, the probability of the union of mutually exclusive events is the sum of their individual probabilities:\n",
    "\n",
    "  $$P(A \\cup B) = P(A) + P(B)$$\n",
    "  \n",
    "  \n",
    "\n",
    "\n",
    "### Example: Rolling a Six-Sided Die\n",
    "\n",
    "- $A$: Rolling an even number - $(2, 4, 6)$\n",
    "- $B$: Rolling an odd number - $(1, 3, 5)$\n",
    "\n",
    "Events $A$ and $B$ are mutually exclusive because an outcome cannot be both even and odd simultaneously. The intersection of $A$ and $B$ is empty:\n",
    "\n",
    "$$A \\cap B = \\emptyset$$\n"
   ]
  },
  {
   "cell_type": "code",
   "execution_count": 9,
   "id": "c6d09386",
   "metadata": {},
   "outputs": [
    {
     "name": "stdout",
     "output_type": "stream",
     "text": [
      "Events A and B are mutually exclusive.\n"
     ]
    }
   ],
   "source": [
    "# Sample space for rolling a six-sided die\n",
    "sample_space = {1, 2, 3, 4, 5, 6}\n",
    "\n",
    "# Define mutually exclusive events\n",
    "event_A = {2, 4, 6}  # Rolling an even number\n",
    "event_B = {1, 3, 5}  # Rolling an odd number\n",
    "\n",
    "# Check if events are mutually exclusive\n",
    "mutually_exclusive = event_A.isdisjoint(event_B)\n",
    "\n",
    "# Print the result\n",
    "if mutually_exclusive:\n",
    "    print(\"Events A and B are mutually exclusive.\")\n",
    "else:\n",
    "    print(\"Events A and B are not mutually exclusive.\")"
   ]
  },
  {
   "cell_type": "markdown",
   "id": "4a303566",
   "metadata": {},
   "source": [
    "## Axiomatic Definition of Probability\n",
    "\n",
    "The axiomatic definition of probability provides a formal framework for understanding probability based on a set of axioms. These axioms establish the properties that probabilities must satisfy. \n",
    "\n",
    "If $(S)$ is the sample space and $(A \\subset S)$ is any subset of the sample space, then:\n",
    "\n",
    "1. **Non-Negativity**: The probability of any event is a non-negative real number.\n",
    "\n",
    "   $$P(A) \\geq 0 \\text{ for all } A \\subset S$$\n",
    "\n",
    "\n",
    "\n",
    "2. **Normalization**: The probability of the entire sample space is `1`.\n",
    "\n",
    "   $$P(S) = 1$$\n",
    "\n",
    "\n",
    "\n",
    "3. **Additivity**: For any sequence of **mutually exclusive events** (events that have no outcomes in common), the probability of the union of those events is the sum of their individual probabilities.\n",
    "\n",
    "   $$P\\left(\\bigcup_{i=1}^n A_i\\right) = \\sum_{i=1}^n P(A_i)$$\n",
    "\n",
    "\n",
    "### Theorems Based on Axioms:\n",
    "\n",
    "1. **Complement Rule**: The probability of the complement of an event $A$ is $1$ minus the probability of $A$.\n",
    "   \n",
    "   $$P(\\bar{A}) = 1 - P(A)$$\n",
    "\n",
    "\n",
    "\n",
    "2. **Inclusion-Exclusion Principle**: For any two events $A$ and $B$, the probability of their union is the sum of their individual probabilities minus the probability of their intersection.\n",
    "\n",
    "   $$P(A \\cup B) = P(A) + P(B) - P(A \\cap B)$$\n",
    "   \n",
    "   \n",
    "\n",
    "3. **Subadditivity**: For any events $A$ and $B$, the probability of their union is less than or equal to the sum of their probabilities.\n",
    "\n",
    "   $$P(A \\cup B) \\leq P(A) + P(B)$$\n",
    "\n",
    "\n",
    "\n",
    "4. **Boole's Inequality**: For any finite sequence of events $A_1, A_2, \\ldots, A_n$,\n",
    "\n",
    "   $$P\\left(\\bigcup_{i=1}^n A_i\\right) \\leq \\sum_{i=1}^n P(A_i)$$\n",
    "\n",
    "\n",
    "\n",
    "5. **Bonferroni Inequalities**: Generalizations of the inclusion-exclusion principle for multiple events."
   ]
  },
  {
   "cell_type": "code",
   "execution_count": 10,
   "id": "d97dafb5",
   "metadata": {},
   "outputs": [
    {
     "name": "stdout",
     "output_type": "stream",
     "text": [
      "Complement of event A: {1, 3, 5}\n",
      "Probability of A ∪ B (Subadditivity): 0.6666666666666666\n",
      "Probability of A ∪ B (Inclusion-Exclusion): 0.6666666666666667\n"
     ]
    }
   ],
   "source": [
    "# Sample space\n",
    "sample_space = {1, 2, 3, 4, 5, 6}\n",
    "\n",
    "# Events\n",
    "event_A = {2, 4, 6}  # Rolling an even number\n",
    "event_B = {4, 5, 6}  # Rolling a number greater than 3\n",
    "\n",
    "# The complement rule\n",
    "complement_A = sample_space - event_A\n",
    "print(\"Complement of event A:\", complement_A)\n",
    "\n",
    "# Subadditivity\n",
    "probability_union = len(event_A.union(event_B)) / len(sample_space)\n",
    "print(\"Probability of A ∪ B (Subadditivity):\", probability_union)\n",
    "\n",
    "# Inclusion-Exclusion Principle\n",
    "probability_sum = len(event_A) / len(sample_space) + len(event_B) / len(sample_space)\n",
    "probability_intersection = len(event_A.intersection(event_B)) / len(sample_space)\n",
    "probability_inclusion_exclusion = probability_sum - probability_intersection\n",
    "print(\"Probability of A ∪ B (Inclusion-Exclusion):\", probability_inclusion_exclusion)"
   ]
  },
  {
   "cell_type": "markdown",
   "id": "04cad3ed",
   "metadata": {},
   "source": [
    "## Conditional Probability\n",
    "\n",
    "Conditional probability is a fundamental concept in probability theory that deals with the probability of an event occurring given that another event has already occurred. It quantifies the likelihood of one event happening under the condition that another event is known to have occurred.\n",
    "\n",
    "The conditional probability of event $A$ given event $B$ is denoted as $P(A|B)$ and is calculated as follows:\n",
    "\n",
    "$$ P(A|B) = \\frac{P(A \\cap B)}{P(B)}$$\n",
    "\n",
    "### Properties and Interpretation:\n",
    "\n",
    "- Conditional probability allows us to update our beliefs about an event based on new information.\n",
    "\n",
    "\n",
    "- If events $A$ and $B$ are independent, then \n",
    "\n",
    "$$P(A|B) = P(A)$$\n",
    "\n",
    "\n",
    "- **Bayes' theorem** is an important theorem in probability that provides a way to reverse the conditional probability. It is widely used in statistics and machine learning.\n",
    "\n",
    "### Real-Life Application:\n",
    "\n",
    "Conditional probability is a powerful tool for making informed decisions in various fields. It has numerous applications, including:\n",
    "- **Medical diagnosis**: Assessing the probability of a disease given certain symptoms.\n",
    "- **Finance**: Estimating the probability of default for a loan given a credit score.\n",
    "- **Weather forecasting**: Predicting the probability of rain based on current weather conditions.\n",
    "\n",
    "### Example:  Conditional Probability of Drawing Cards\n",
    "Consider a deck of playing cards. Let's define the following events:\n",
    "\n",
    "- $A$: Drawing a red card $\\heartsuit$ or $\\diamondsuit$.\n",
    "- $B$: Drawing a heart card $\\heartsuit$.\n",
    "\n",
    "We want to find the probability of drawing a red card given that the drawn card is a heart."
   ]
  },
  {
   "cell_type": "code",
   "execution_count": 11,
   "id": "674442e2",
   "metadata": {},
   "outputs": [
    {
     "name": "stdout",
     "output_type": "stream",
     "text": [
      "Sample Space: {'♣', '♥', '♦', '♠'}\n",
      "\n",
      "Event A: {'♥', '♦'} (Red cards)\n",
      "Event B: {'♥'} (Heart cards)\n",
      "\n",
      "Conditional probability of drawing a red card given a heart card: 1.0\n"
     ]
    }
   ],
   "source": [
    "# Sample space (deck of cards)\n",
    "sample_space = {\"\\u2665\", \"\\u2666\", \"\\u2663\", \"\\u2660\"}  # Hearts, Diamonds, Clubs, Spades\n",
    "print(f\"Sample Space: {sample_space}\")\n",
    "\n",
    "# Define events\n",
    "event_A = {\"\\u2665\", \"\\u2666\"}\n",
    "print(f\"\\nEvent A: {event_A} (Red cards)\")\n",
    "\n",
    "event_B = {\"\\u2665\"}\n",
    "print(f\"Event B: {event_B} (Heart cards)\")\n",
    "\n",
    "# Calculate conditional probability P(A|B)\n",
    "probability_A_given_B = len(event_A.intersection(event_B)) / len(event_B)\n",
    "\n",
    "# Print the result\n",
    "print(\"\\nConditional probability of drawing a red card given a heart card:\", probability_A_given_B)"
   ]
  },
  {
   "cell_type": "markdown",
   "id": "79a4c8c1",
   "metadata": {},
   "source": [
    "### Example: Conditional Probability and Dice Rolls\n",
    "Consider rolling two six-sided dice. Let's find the probability that the sum of the rolls is 7, given that the first die shows a 3."
   ]
  },
  {
   "cell_type": "code",
   "execution_count": 12,
   "id": "079eb7b2",
   "metadata": {},
   "outputs": [
    {
     "name": "stdout",
     "output_type": "stream",
     "text": [
      "Sample Space: {(3, 4), (4, 3), (3, 1), (5, 4), (4, 6), (5, 1), (2, 2), (1, 6), (2, 5), (1, 3), (6, 2), (6, 5), (4, 2), (4, 5), (3, 3), (5, 6), (3, 6), (5, 3), (2, 4), (1, 2), (2, 1), (1, 5), (6, 1), (6, 4), (3, 2), (4, 1), (3, 5), (5, 2), (4, 4), (5, 5), (1, 1), (1, 4), (2, 3), (2, 6), (6, 6), (6, 3)}\n",
      "\n",
      "Event A: First die shows a 3 - {(3, 4), (3, 1), (3, 3), (3, 6), (3, 2), (3, 5)}\n",
      "\n",
      "Event B: Sum of rolls is 7 - {(3, 4), (4, 3), (6, 1), (1, 6), (2, 5), (5, 2)}\n",
      "\n",
      "Conditional probability of sum being 7, given the first die shows a 3: 0.16666666666666666\n"
     ]
    }
   ],
   "source": [
    "# Sample space for two dice rolls\n",
    "sample_space = {(i, j) for i in range(1, 7) for j in range(1, 7)}\n",
    "print(f\"Sample Space: {sample_space}\")\n",
    "\n",
    "# Event A: First die shows a 3\n",
    "event_A = {(3, j) for j in range(1, 7)}\n",
    "print(f\"\\nEvent A: First die shows a 3 - {event_A}\")\n",
    "\n",
    "# Event B: Sum of rolls is 7\n",
    "event_B = {(i, j) for i, j in sample_space if i + j == 7}\n",
    "print(f\"\\nEvent B: Sum of rolls is 7 - {event_B}\")\n",
    "\n",
    "# Calculate conditional probability P(B|A)\n",
    "probability_B_given_A = len(event_B.intersection(event_A)) / len(event_A)\n",
    "\n",
    "# Print the result\n",
    "print(\"\\nConditional probability of sum being 7, given the first die shows a 3:\", probability_B_given_A)"
   ]
  },
  {
   "cell_type": "markdown",
   "id": "75880200",
   "metadata": {},
   "source": [
    "## Bayes' Theorem\n",
    "\n",
    "Bayes' Theorem is a fundamental concept in probability theory that provides a way to update our beliefs about the probability of an event based on new evidence or information. It relates the conditional probability of an event $A$ given event $B$ to the conditional probability of event $B$ given event $A$.\n",
    "\n",
    "Bayes' Theorem can be stated as follows:\n",
    "\n",
    "$$P(A|B) = \\frac{P(B|A) \\cdot P(A)}{P(B)}$$\n",
    "\n",
    "Here:\n",
    "- $P(A|B)$ is the conditional probability of event $A$ given event $B$.\n",
    "- $P(B|A)$ is the conditional probability of event $B$ given event $A$.\n",
    "- $P(A)$ is the prior probability of event $A$.\n",
    "- $P(B)$ is the probability of event $B$.\n",
    "\n",
    "\n",
    "The **Multiplication Rule** is also defined from above:\n",
    "\n",
    "$$P(A \\cap B) = P(A|B) \\cdot P(B) = P(B|A) \\cdot P(A)$$\n",
    "\n",
    "\n",
    "### Example:\n",
    "\n",
    "Consider a medical scenario where we want to find the probability that a person has a disease given that a diagnostic test is positive. A medical test for a rare disease is 99% accurate (both for positive and negative results).\n",
    "\n",
    "- $A$: Person has the disease.\n",
    "- $B$: Diagnostic test is positive.\n",
    "\n",
    "We know the following probabilities:\n",
    "- $A$ (prior probability of having the disease).\n",
    "- $P(B|A)$ (probability of testing positive given having the disease).\n",
    "- $P(\\neg A)$ (probability of not having the disease, i.e., $1 - P(A)$.\n",
    "- $P(B|\\neg A)$ (probability of testing positive given not having the disease).\n",
    "\n",
    "Using Bayes' Theorem, we can calculate $P(A|B)$, the probability of having the disease given a positive test result."
   ]
  },
  {
   "cell_type": "code",
   "execution_count": 13,
   "id": "6ffecaf5",
   "metadata": {},
   "outputs": [],
   "source": [
    "# Given probabilities\n",
    "p_disease = 0.001  # Prior probability of having the disease\n",
    "p_test_positive_given_disease = 0.99  # Probability of testing positive given having the disease\n",
    "p_test_positive_given_no_disease = 0.01  # Probability of testing positive given not having the disease"
   ]
  },
  {
   "cell_type": "code",
   "execution_count": 14,
   "id": "7b0b79e4",
   "metadata": {},
   "outputs": [
    {
     "name": "stdout",
     "output_type": "stream",
     "text": [
      "Conditional probability of having the disease given a positive test result: 0.09016393442622951\n"
     ]
    }
   ],
   "source": [
    "# Calculate conditional probability P(Disease|Test Positive) using Bayes' theorem\n",
    "p_test_positive = (p_disease * p_test_positive_given_disease) + ((1 - p_disease) * p_test_positive_given_no_disease)\n",
    "p_disease_given_test_positive = (p_disease * p_test_positive_given_disease) / p_test_positive\n",
    "\n",
    "# Print the result\n",
    "print(\"Conditional probability of having the disease given a positive test result:\", p_disease_given_test_positive)"
   ]
  },
  {
   "cell_type": "code",
   "execution_count": 15,
   "id": "6d645ac3",
   "metadata": {},
   "outputs": [
    {
     "name": "stdout",
     "output_type": "stream",
     "text": [
      "Probability of having the disease given a positive test result (Bayes' Theorem): 0.09016393442622951\n"
     ]
    }
   ],
   "source": [
    "# Defining Bayes' Theorem function\n",
    "def bayes_theorem(p_a, p_b_given_a, p_b_given_not_a):\n",
    "    p_not_a = 1 - p_a\n",
    "    p_b = (p_a * p_b_given_a) + (p_not_a * p_b_given_not_a)\n",
    "    p_a_given_b = (p_b_given_a * p_a) / p_b\n",
    "    return p_a_given_b\n",
    "\n",
    "# Calculating probability using Bayes' Theorem function\n",
    "probability_disease_given_positive = bayes_theorem(p_disease, p_test_positive_given_disease, p_test_positive_given_no_disease)\n",
    "\n",
    "# Print the result\n",
    "print(\"Probability of having the disease given a positive test result (Bayes' Theorem):\", probability_disease_given_positive)"
   ]
  },
  {
   "cell_type": "markdown",
   "id": "5b334e00",
   "metadata": {},
   "source": [
    "## Independent Events\n",
    "\n",
    "Independent events are events that do not influence each other. The occurrence or non-occurrence of one event does not affect the probability of the other event happening. In other words, the outcome of one event provides no information about the outcome of the other event.\n",
    "\n",
    "The multiplication rule for independent events states that the probability of two or more independent events occurring together is the product of their individual probabilities. Events $A$ and $B$ are considered independent if and only if the occurrence of one event does not change the probability of the other event:\n",
    "\n",
    "$$P(A \\cap B) = P(A) \\cdot P(B)$$\n",
    "\n",
    "In this case, knowing that event $B$ has occurred does not affect the probability of event $A$, and vice versa.\n",
    "\n",
    "### Example:\n",
    "- Flipping a fair coin twice: The outcome of the first flip does not affect the outcome of the second flip. These flips are independent events.\n",
    "\n",
    "\n",
    "- Rolling a fair six-sided die and drawing a card from a well-shuffled deck: The result of the die roll does not influence the card drawn. These actions are independent events."
   ]
  },
  {
   "cell_type": "code",
   "execution_count": 37,
   "id": "f4a93883",
   "metadata": {},
   "outputs": [
    {
     "name": "stdout",
     "output_type": "stream",
     "text": [
      "Probability of independent events (coin flip: Heads, die roll: 6): 0.0836\n"
     ]
    }
   ],
   "source": [
    "# In this example, we simulate coin flips and die rolls to calculate the probability of independent events \n",
    "# occurring together (coin flip: Heads, die roll: 6)\n",
    "\n",
    "def flip_coin():\n",
    "    return random.choice([\"Heads\", \"Tails\"])\n",
    "\n",
    "def roll_die():\n",
    "    return random.randint(1, 6)\n",
    "\n",
    "\n",
    "# Perform coin flips and die rolls\n",
    "num_trials = 10000\n",
    "num_independent_events = 0\n",
    "\n",
    "for _ in range(num_trials):\n",
    "    coin_flip_result = flip_coin()\n",
    "    die_roll_result = roll_die()\n",
    "    \n",
    "    if coin_flip_result == \"Heads\" and die_roll_result == 6:\n",
    "        num_independent_events += 1\n",
    "\n",
    "# Calculate the probability of independent events occurring together\n",
    "probability_independent_events = num_independent_events / num_trials\n",
    "\n",
    "# Print the result\n",
    "print(\"Probability of independent events (coin flip: Heads, die roll: 6):\", probability_independent_events)"
   ]
  },
  {
   "cell_type": "markdown",
   "id": "97cb8b88",
   "metadata": {},
   "source": [
    "### If events $A$ and $B$ are independent, the complements of these events, $\\neg A$ and $\\neg B$, are also independent.\n",
    "\n",
    "This means that the occurrence or non-occurrence of one event does not affect the probability of the other event happening. \n",
    "To prove this, we need to show that:\n",
    "$P(\\neg A \\cap \\neg B) = P(\\neg A) \\cdot P(\\neg B)$\n",
    "\n",
    "#### Proof:\n",
    "\n",
    "Given that $A$ and $B$ are independent, we know that:\n",
    "\n",
    "$$ P(A \\cap B) = P(A) \\cdot P(B) $$\n",
    "\n",
    "Since $A$ and $\\neg A$ are complementary events, we have:\n",
    "\n",
    "$$ P(A) + P(\\neg A) = 1 $$\n",
    "\n",
    "$$ P(\\neg A) = 1 - P(A) $$\n",
    "\n",
    "\n",
    "Similarly, for events $B$ and $\\neg B$:\n",
    "\n",
    "$$ P(B) + P(\\neg B) = 1 $$\n",
    "\n",
    "$$ P(\\neg B) = 1 - P(B) $$\n",
    "\n",
    "\n",
    "Now, we want to calculate $P(\\neg A \\cap \\neg B)$, the probability of both $\\neg A$ and $\\neg B$ occurring:\n",
    "\n",
    "$$ P(\\neg A \\cap \\neg B) = 1 - P(A \\cup B) = P(\\neg{(A \\cup B)}) $$\n",
    "\n",
    "\n",
    "Using the inclusion-exclusion principle:\n",
    "\n",
    "$$ P(A \\cup B) = P(A) + P(B) - P(A \\cap B) $$\n",
    "\n",
    "\n",
    "Substitute the value of $P(A \\cap B)$ from the independence of $A$ and $B$:\n",
    "\n",
    "$$ P(A \\cup B) = P(A) + P(B) - P(A) \\cdot P(B) $$\n",
    "\n",
    "\n",
    "Therefore,\n",
    "\n",
    "$$ P(\\neg A \\cap \\neg B) = 1 - (P(A) + P(B) - P(A) \\cdot P(B)) $$\n",
    "\n",
    "\n",
    "Now, substitute the values of $P(\\neg A)$ and $P(\\neg B)$ in terms of $P(A)$ and $P(B)$:\n",
    "\n",
    "$$ P(\\neg A \\cap \\neg B) = 1 - (P(A) + P(B) - P(A) \\cdot P(B)) $$\n",
    "\n",
    "$$ P(\\neg A \\cap \\neg B) = 1 - P(A) - P(B) + P(A) \\cdot P(B) $$\n",
    "\n",
    "$$ P(\\neg A \\cap \\neg B) = (1 - P(A)) \\cdot (1 - P(B)) $$\n",
    "\n",
    "$$ P(\\neg A \\cap \\neg B) = P(\\neg A) \\cdot P(\\neg B) $$\n",
    "\n",
    "\n",
    "This concludes the proof that if events $A$ and $B$ are independent, then their complements $\\neg A$ and $\\neg B$ are also independent. This property holds because of the algebraic relationship between probabilities of complements and the definition of independent events."
   ]
  },
  {
   "cell_type": "markdown",
   "id": "0844cfef",
   "metadata": {},
   "source": [
    "## Total Independence & Mutual Independence\n",
    "\n",
    "Total independence and mutual independence are related concepts in probability theory, but they have slightly different meanings and implications.\n",
    "\n",
    "\n",
    "**Total independence**, also known as **pairwise independence**, refers to a situation where each pair of events in a collection of events is independent of each other. In other words, if we have a set of events $(A_1, A_2, \\ldots, A_n)$, they are considered totally independent if the occurrence or non-occurrence of any event $A_i$ does not provide any information about the occurrence of any other event $A_j$ where $i \\neq j$.\n",
    "\n",
    "Mathematically, for total independence, the following condition must hold for every pair of events $A_i$ and $A_j$ where $i \\neq j$:\n",
    "\n",
    "$$ P(A_i \\cap A_j) = P(A_i) \\cdot P(A_j) $$\n",
    "\n",
    "\n",
    "**Total independence** implies that events are independent in a pairwise manner, but it does not necessarily imply that the events are mutually independent when considering larger combinations of events.\n",
    "\n",
    "\n",
    "**Mutual independence**, also known as **oint independence**, is a stronger concept. Events are considered mutually independent if the occurrence or non-occurrence of any subset of events in a collection does not provide any information about the occurrence of any other event in the collection.\n",
    "\n",
    "Mathematically, events $A_1, A_2, \\ldots, A_n$ are mutually independent if and only if the following condition holds for every possible subset of events:\n",
    "\n",
    "$$ P\\left(\\bigcap_{i \\in I} A_i\\right) = \\prod_{i \\in I} P(A_i)$$\n",
    "\n",
    "where $I$ is a subset of ${1, 2, \\ldots, n}$.\n",
    "\n",
    "In other words, **mutual independence** extends the concept of independence to any combination of events, not just pairwise combinations.\n",
    "\n",
    "\n",
    "The key difference between total independence and mutual independence lies in the scope of their independence. Total independence only considers the pairwise independence of events, while mutual independence considers the independence of any combination of events, including subsets larger than two.\n",
    "\n",
    "For example, consider three events $A$, $B$, and $C$. If these events are totally independent, it means that $A$ is independent of $B$, $A$ is independent of $C$, and $B$ is independent of $C$. However, mutual independence requires that all possible combinations of these events (e.g., $A$ and $B$, $A$ and $C$, $B$ and $C$, and $A$, $B$, and $C$ together) are independent.\n",
    "\n",
    "In summary, total independence considers independence between pairs of events, while mutual independence considers independence among any combination of events, including larger subsets."
   ]
  },
  {
   "cell_type": "markdown",
   "id": "8ff3b227",
   "metadata": {},
   "source": [
    "## Theorem of Total Probability\n",
    "\n",
    "The **Theorem of Total Probability** is a fundamental concept in probability theory that provides a way to calculate the probability of an event $B$ by considering all possible ways in which $B$ can occur, based on a partition of the sample space. It is particularly useful when dealing with complex scenarios that can be broken down into simpler cases.\n",
    "\n",
    "\n",
    "Let $B_1, B_2, \\ldots, B_n$ be a partition of the sample space $S$ (i.e., the events $B_i$ are mutually exclusive and their union covers the entire sample space). \n",
    "<img src='imgs/total_probability_theorem.jpg' alt='total_probability_theorem.jpg' width=150>\n",
    "\n",
    "Then, for any event $A$, the theorem of total probability states:\n",
    "\n",
    "$$ P(A) = \\sum_{i=1}^n P(A \\cap B_i) = \\sum_{i=1}^n P(B_i) \\cdot P(A|B_i) $$\n",
    "\n",
    "In other words, the probability of event $A$ is the sum of the probabilities of $A$ occurring within each partition $B_i$.\n",
    "\n",
    "The theorem of total probability can be thought of as a way to \"average out\" the probability of event $A$ over all possible partitions of the sample space. It breaks down the problem of finding $P(A)$ into simpler cases defined by the different partitions.\n",
    "\n",
    "### Example:\n",
    "\n",
    "Consider an example where we have two boxes, Box 1 and Box 2, containing colored balls. Box 1 contains 4 red balls and 6 blue balls, while Box 2 contains 3 red balls and 7 blue balls. You randomly choose a box, and then randomly draw a ball from that box. Let $A$ be the event that you draw a red ball, and let $B_1$ and $B_2$ be the events that you choose Box 1 and Box 2, respectively.\n",
    "\n",
    "We can partition the sample space as follows:\n",
    "- $B_1$: Choose Box 1.\n",
    "- $B_2$: Choose Box 2.\n",
    "\n",
    "Using the theorem of total probability, we can calculate $P(A)$ as:\n",
    "\n",
    "$$ P(A) = P(A \\cap B_1) + P(A \\cap B_2) $$\n",
    "\n",
    "\n",
    "Calculate each term:\n",
    "\n",
    "$$P(A \\cap B_1) = P(A|B_1) \\cdot P(B_1) = \\frac{4}{10} \\cdot \\frac{1}{2} = \\frac{2}{10}$$\n",
    "\n",
    "\n",
    "$$P(A \\cap B_2) = P(A|B_2) \\cdot P(B_2) = \\frac{3}{10} \\cdot \\frac{1}{2} = \\frac{3}{20}$$\n",
    "\n",
    "\n",
    "Summing the terms:\n",
    "\n",
    "$$ P(A) = \\frac{2}{10} + \\frac{3}{20} = \\frac{7}{20} $$\n",
    "\n",
    "\n",
    "In this example, we calculate the probability of drawing a red ball using the theorem of total probability by considering two partitions of the sample space: choosing Box 1 and choosing Box 2."
   ]
  },
  {
   "cell_type": "code",
   "execution_count": 38,
   "id": "ae048681",
   "metadata": {},
   "outputs": [
    {
     "name": "stdout",
     "output_type": "stream",
     "text": [
      "Probability of drawing a red ball: 0.35\n"
     ]
    }
   ],
   "source": [
    "# Probabilities\n",
    "p_box1 = 0.5\n",
    "p_box2 = 0.5\n",
    "p_red_given_box1 = 4 / 10\n",
    "p_red_given_box2 = 3 / 10\n",
    "\n",
    "# Calculate using the theorem of total probability\n",
    "p_red = (p_red_given_box1 * p_box1) + (p_red_given_box2 * p_box2)\n",
    "\n",
    "# Print the result\n",
    "print(\"Probability of drawing a red ball:\", p_red)"
   ]
  },
  {
   "cell_type": "markdown",
   "id": "f9c57161",
   "metadata": {},
   "source": [
    "### Expressing Bayes' Theorem using the Theorem of Total Probability:\n",
    "\n",
    "Bayes' Theorem can be expressed in terms of the Theorem of Total Probability when dealing with events and their partitions. Recall the Theorem of Total Probability, which states that for any event $A$ and a partition of the sample space $B_1, B_2, \\ldots, B_n$:\n",
    "\n",
    "$$ P(A) = \\sum_{i=1}^n P(A \\cap B_i) = \\sum_{i=1}^n P(B_i) \\cdot P(A|B_i) $$\n",
    "\n",
    "Now, let's consider two events, $A$ and $B$, and their partitions $B_1, B_2, \\ldots, B_n$, where $B_1, B_2, \\ldots, B_n$ form a partition of the sample space. Bayes' Theorem relates the conditional probability $P(B_i|A)$ to the conditional probability $P(A|B_i)$:\n",
    "\n",
    "\n",
    "$$ P(B_i|A) = \\frac{P(B_i) \\cdot P(A|B_i)}{P(A)}\\ ,i=1, 2, \\ldots, n$$\n",
    "\n",
    "\n",
    "The expression of Bayes' Theorem in terms of the Theorem of Total Probability can be derived from the above two equations:\n",
    "\n",
    "\n",
    "$$ P(B_i|A) = \\frac{P(B_i) \\cdot P(A|B_i)}{\\sum_{i=1}^n P(B_i) \\cdot P(A|B_i)}\\ ,i=1, 2, \\ldots, n $$\n",
    "\n",
    "\n",
    "This is also known as **Theorem of Probability of Causes**.\n",
    "\n",
    "Bayes' Theorem, which relates conditional probabilities of events, can be derived and expressed using the Theorem of Total Probability, which deals with the probability of events within partitions of the sample space. The two theorems are closely related and provide a powerful framework for updating probabilities based on new evidence or information.\n",
    "\n",
    "### Example\n",
    "Consider a scenario involving email spam filtering. Suppose we have the following information:\n",
    "\n",
    "- $ P(S) $: The prior probability that an email is spam (e.g., $0.2$, indicating $20\\%$ of incoming emails are spam).\n",
    "- $ P(F|S) $: The probability that the spam filter correctly classifies an email as spam (e.g., $0.95$, indicating a $95\\%$ true positive rate for spam).\n",
    "- $ P(F|\\neg S) $: The probability that the spam filter incorrectly classifies a non-spam email as spam (e.g., $0.02$, indicating a $2\\%$ false positive rate).\n",
    "\n",
    "We want to calculate $ P(S|F) $, the probability that an email is spam given that it has been classified as spam by the filter."
   ]
  },
  {
   "cell_type": "code",
   "execution_count": 43,
   "id": "f265ce09",
   "metadata": {},
   "outputs": [
    {
     "name": "stdout",
     "output_type": "stream",
     "text": [
      "Probability that an email is spam given it's classified as spam: 0.9223300970873786\n"
     ]
    }
   ],
   "source": [
    "def probability_of_cause_given_effect(prior_prob, prob_effect_given_cause, prob_effect_given_not_cause):\n",
    "    total_prob_effect = (prior_prob * prob_effect_given_cause) + ((1 - prior_prob) * prob_effect_given_not_cause)\n",
    "    prob_cause_given_effect = (prior_prob * prob_effect_given_cause) / total_prob_effect\n",
    "    return prob_cause_given_effect\n",
    "\n",
    "# Given probabilities\n",
    "p_spam = 0.2\n",
    "p_filter_classifies_spam_given_spam = 0.95\n",
    "p_filter_classifies_spam_given_non_spam = 0.02\n",
    "\n",
    "# Calculate using the theorem of probability of causes (Bayes' Theorem)\n",
    "probability_spam_given_classified_as_spam = probability_of_cause_given_effect(\n",
    "    p_spam, p_filter_classifies_spam_given_spam, p_filter_classifies_spam_given_non_spam\n",
    ")\n",
    "\n",
    "# Print the result\n",
    "print(\"Probability that an email is spam given it's classified as spam:\", probability_spam_given_classified_as_spam)"
   ]
  },
  {
   "cell_type": "code",
   "execution_count": null,
   "id": "4587ac18",
   "metadata": {},
   "outputs": [],
   "source": []
  },
  {
   "cell_type": "code",
   "execution_count": null,
   "id": "cd47c742",
   "metadata": {},
   "outputs": [],
   "source": []
  },
  {
   "cell_type": "code",
   "execution_count": null,
   "id": "858885b4",
   "metadata": {},
   "outputs": [],
   "source": []
  },
  {
   "cell_type": "markdown",
   "id": "bb4378c1",
   "metadata": {},
   "source": [
    "\n",
    "## Probability Distribution\n",
    "\n",
    "A probability distribution assigns probabilities to each outcome in the sample space. There are two types of probability distributions:\n",
    "\n",
    "- **Discrete Probability Distribution**: Assigns probabilities to individual outcomes. It's typically used for situations with a countable number of outcomes, like rolling a die.\n",
    "\n",
    "- **Continuous Probability Distribution**: Assigns probabilities to ranges of outcomes. It's used for situations where outcomes can take any value within a range, like measuring height.\n",
    "\n",
    "\n",
    "Some common probability distributions include:\n",
    "\n",
    "- **Binomial Distribution**: Describes the number of successes in a fixed number of independent Bernoulli trials.\n",
    "\n",
    "- **Poisson Distribution**: Models the number of events occurring in a fixed interval of time or space.\n",
    "\n",
    "- **Normal (Gaussian) Distribution**: Characterized by its bell-shaped curve and is commonly used to model natural phenomena.\n",
    "\n",
    "- **Exponential Distribution**: Describes the time between events in a Poisson process.\n",
    "\n",
    "\n",
    "\n",
    "## Random Variables\n",
    "\n",
    "A random variable is a function that assigns a numerical value to each outcome in the sample space. It can be discrete (taking on distinct values) or continuous (taking on any value within a range). The probability distribution of a random variable is described by a probability mass function (for discrete) or a probability density function (for continuous).\n",
    "\n",
    "\n"
   ]
  },
  {
   "cell_type": "code",
   "execution_count": null,
   "id": "4fa3cb14",
   "metadata": {},
   "outputs": [],
   "source": []
  }
 ],
 "metadata": {
  "kernelspec": {
   "display_name": "Python 3 (ipykernel)",
   "language": "python",
   "name": "python3"
  },
  "language_info": {
   "codemirror_mode": {
    "name": "ipython",
    "version": 3
   },
   "file_extension": ".py",
   "mimetype": "text/x-python",
   "name": "python",
   "nbconvert_exporter": "python",
   "pygments_lexer": "ipython3",
   "version": "3.9.7"
  }
 },
 "nbformat": 4,
 "nbformat_minor": 5
}
